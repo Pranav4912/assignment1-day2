{
  "nbformat": 4,
  "nbformat_minor": 0,
  "metadata": {
    "colab": {
      "name": "assignment1-day3",
      "provenance": [],
      "collapsed_sections": [],
      "authorship_tag": "ABX9TyNmpiHycYc9xA4V/JEQmya7",
      "include_colab_link": true
    },
    "kernelspec": {
      "name": "python3",
      "display_name": "Python 3"
    }
  },
  "cells": [
    {
      "cell_type": "markdown",
      "metadata": {
        "id": "view-in-github",
        "colab_type": "text"
      },
      "source": [
        "<a href=\"https://colab.research.google.com/github/Pranav4912/assignment1-day2/blob/master/assignment1_day3.ipynb\" target=\"_parent\"><img src=\"https://colab.research.google.com/assets/colab-badge.svg\" alt=\"Open In Colab\"/></a>"
      ]
    },
    {
      "cell_type": "markdown",
      "metadata": {
        "id": "AJr-B5QGqy0L",
        "colab_type": "text"
      },
      "source": [
        "#Q1"
      ]
    },
    {
      "cell_type": "code",
      "metadata": {
        "id": "l-xXzDKp8TB9",
        "colab_type": "code",
        "colab": {
          "base_uri": "https://localhost:8080/",
          "height": 51
        },
        "outputId": "2f3df19f-675f-4850-b553-d3ab284d27f0"
      },
      "source": [
        "feet = int(input(\"Enter a feet -\"))\n",
        "if  feet <= 1000:\n",
        "  print(\"Save to land -\")\n",
        "elif feet < 5000 :\n",
        "  print(\"Come to 1000 and then try to land save -\")\n",
        "else:\n",
        "  print(\"Turn around -\")   "
      ],
      "execution_count": 71,
      "outputs": [
        {
          "output_type": "stream",
          "text": [
            "Enter a feet -1001\n",
            "Come to 1000 and then try to land save -\n"
          ],
          "name": "stdout"
        }
      ]
    },
    {
      "cell_type": "markdown",
      "metadata": {
        "id": "OKH6jJGyq6Kv",
        "colab_type": "text"
      },
      "source": [
        "#Q2"
      ]
    },
    {
      "cell_type": "code",
      "metadata": {
        "id": "dthPSRisnRIo",
        "colab_type": "code",
        "colab": {
          "base_uri": "https://localhost:8080/",
          "height": 1000
        },
        "outputId": "d87bf735-dbe4-427e-d80f-daf81aa74c01"
      },
      "source": [
        "for i in range(1,200):\n",
        " if i%2==1:\n",
        "    print(i,\" a prime number\")\n",
        "    \n",
        " \n",
        "    "
      ],
      "execution_count": 74,
      "outputs": [
        {
          "output_type": "stream",
          "text": [
            "1  a prime number\n",
            "3  a prime number\n",
            "5  a prime number\n",
            "7  a prime number\n",
            "9  a prime number\n",
            "11  a prime number\n",
            "13  a prime number\n",
            "15  a prime number\n",
            "17  a prime number\n",
            "19  a prime number\n",
            "21  a prime number\n",
            "23  a prime number\n",
            "25  a prime number\n",
            "27  a prime number\n",
            "29  a prime number\n",
            "31  a prime number\n",
            "33  a prime number\n",
            "35  a prime number\n",
            "37  a prime number\n",
            "39  a prime number\n",
            "41  a prime number\n",
            "43  a prime number\n",
            "45  a prime number\n",
            "47  a prime number\n",
            "49  a prime number\n",
            "51  a prime number\n",
            "53  a prime number\n",
            "55  a prime number\n",
            "57  a prime number\n",
            "59  a prime number\n",
            "61  a prime number\n",
            "63  a prime number\n",
            "65  a prime number\n",
            "67  a prime number\n",
            "69  a prime number\n",
            "71  a prime number\n",
            "73  a prime number\n",
            "75  a prime number\n",
            "77  a prime number\n",
            "79  a prime number\n",
            "81  a prime number\n",
            "83  a prime number\n",
            "85  a prime number\n",
            "87  a prime number\n",
            "89  a prime number\n",
            "91  a prime number\n",
            "93  a prime number\n",
            "95  a prime number\n",
            "97  a prime number\n",
            "99  a prime number\n",
            "101  a prime number\n",
            "103  a prime number\n",
            "105  a prime number\n",
            "107  a prime number\n",
            "109  a prime number\n",
            "111  a prime number\n",
            "113  a prime number\n",
            "115  a prime number\n",
            "117  a prime number\n",
            "119  a prime number\n",
            "121  a prime number\n",
            "123  a prime number\n",
            "125  a prime number\n",
            "127  a prime number\n",
            "129  a prime number\n",
            "131  a prime number\n",
            "133  a prime number\n",
            "135  a prime number\n",
            "137  a prime number\n",
            "139  a prime number\n",
            "141  a prime number\n",
            "143  a prime number\n",
            "145  a prime number\n",
            "147  a prime number\n",
            "149  a prime number\n",
            "151  a prime number\n",
            "153  a prime number\n",
            "155  a prime number\n",
            "157  a prime number\n",
            "159  a prime number\n",
            "161  a prime number\n",
            "163  a prime number\n",
            "165  a prime number\n",
            "167  a prime number\n",
            "169  a prime number\n",
            "171  a prime number\n",
            "173  a prime number\n",
            "175  a prime number\n",
            "177  a prime number\n",
            "179  a prime number\n",
            "181  a prime number\n",
            "183  a prime number\n",
            "185  a prime number\n",
            "187  a prime number\n",
            "189  a prime number\n",
            "191  a prime number\n",
            "193  a prime number\n",
            "195  a prime number\n",
            "197  a prime number\n",
            "199  a prime number\n"
          ],
          "name": "stdout"
        }
      ]
    }
  ]
}